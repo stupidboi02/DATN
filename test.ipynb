{
 "cells": [
  {
   "cell_type": "code",
   "execution_count": null,
   "metadata": {},
   "outputs": [
    {
     "name": "stdout",
     "output_type": "stream",
     "text": [
      "+--------------------+---------+----------------+-----------------+-----------------+------------------+\n",
      "|          event_time|  user_id|interaction_type|   issue_category|resolution_status|satisfaction_score|\n",
      "+--------------------+---------+----------------+-----------------+-----------------+------------------+\n",
      "|2019-11-27T04:39:...|522700692|            call|  product_inquiry|         resolved|                 2|\n",
      "|2019-10-14T18:06:...|524795442|          ticket| billing_question|         resolved|                 3|\n",
      "|2019-10-07T11:08:...|548885191|            call| billing_question|         resolved|                 1|\n",
      "|2019-10-10T13:06:...|541414887|            chat|   delivery_issue|         resolved|                 3|\n",
      "|2019-11-29T20:07:...|561644129|            chat| billing_question|         resolved|                 1|\n",
      "|2019-11-22T05:18:...|554284538|            call|technical_support|         resolved|                 1|\n",
      "|2019-11-14T04:40:...|550091484|            chat| billing_question|         resolved|                 1|\n",
      "|2019-11-23T10:50:...|549829910|            chat|            other|         resolved|                 2|\n",
      "|2019-10-03T04:36:...|551047399|            call|  product_inquiry|         resolved|                 2|\n",
      "|2019-10-15T01:40:...|547070310|            chat|   delivery_issue|         resolved|                 3|\n",
      "|2019-10-09T11:47:...|558068377|            call|            other|       unresolved|              NULL|\n",
      "|2019-10-28T19:51:...|517153601|            chat|            other|         resolved|                 5|\n",
      "|2019-11-01T07:23:...|514988313|            call|   delivery_issue|         resolved|                 2|\n",
      "|2019-11-25T08:24:...|562949331|            chat|technical_support|         resolved|                 3|\n",
      "|2019-10-22T17:28:...|560552507|          ticket| billing_question|         resolved|                 2|\n",
      "|2019-11-20T04:44:...|556834893|            chat| billing_question|         resolved|                 1|\n",
      "|2019-10-23T02:05:...|514961389|            call|            other|         resolved|                 2|\n",
      "|2019-11-19T19:57:...|557076780|            call|   delivery_issue|         resolved|                 2|\n",
      "|2019-11-22T00:16:...|514480219|            call|   delivery_issue|       unresolved|              NULL|\n",
      "|2019-11-20T16:18:...|565099842|            chat| billing_question|         resolved|                 4|\n",
      "+--------------------+---------+----------------+-----------------+-----------------+------------------+\n",
      "only showing top 20 rows\n",
      "\n"
     ]
    }
   ],
   "source": [
    "from pyspark.sql import SparkSession,Window\n",
    "from pyspark.sql.functions import*\n",
    "\n",
    "spark = SparkSession.builder.appName(\"abs\").getOrCreate()\n",
    "\n",
    "# df = spark.read.csv(\"./data/part-10/2019-10-01.csv\",header=True, inferSchema=True)\n",
    "# df.count()\n",
    "#ngay 1 có 1006239 dòng\n",
    "df = spark.read.csv(\"./kaggle-data/2019-10.csv\",header=True, inferSchema=True)\n",
    "# df1 = df.where(col(\"event_type\")==\"purchase\").groupBy(\"user_id\").agg(sum(\"price\").alias(\"total_spend\"))"
   ]
  },
  {
   "cell_type": "code",
   "execution_count": 12,
   "metadata": {},
   "outputs": [
    {
     "name": "stdout",
     "output_type": "stream",
     "text": [
      "+---------+-----------+\n",
      "|  user_id|total_visit|\n",
      "+---------+-----------+\n",
      "|512475445|       7400|\n",
      "|526731152|       2773|\n",
      "|514649263|       2336|\n",
      "|563459593|       1618|\n",
      "|561163588|       1182|\n",
      "|554631275|        860|\n",
      "|512500203|        785|\n",
      "|513847031|        731|\n",
      "|548931675|        681|\n",
      "|537873067|        673|\n",
      "|556593461|        669|\n",
      "|553292256|        587|\n",
      "|512365995|        406|\n",
      "|515794073|        347|\n",
      "|512386032|        328|\n",
      "|529839452|        327|\n",
      "|538019949|        314|\n",
      "|512443087|        313|\n",
      "|512661902|        299|\n",
      "|538593075|        286|\n",
      "+---------+-----------+\n",
      "only showing top 20 rows\n",
      "\n"
     ]
    }
   ],
   "source": [
    "# df1.orderBy(col(\"total_spend\").desc()).show()\n",
    "df2 = df.groupBy(\"user_id\").agg(count_distinct(\"user_session\").alias(\"total_visit\"))\n",
    "df2.orderBy(col(\"total_visit\").desc()).show()"
   ]
  },
  {
   "cell_type": "code",
   "execution_count": null,
   "metadata": {},
   "outputs": [],
   "source": [
    "t1 = df.where(to_date(\"event_time\")==\"2019-10-02\").dropDuplicates().count()\n",
    "# t2 = df.dropDuplicates().count()\n",
    "\n",
    "#file goc ngay thu 2 xoa trung co 1 220 120 dong, trong duckdb 1 191 328 dong"
   ]
  },
  {
   "cell_type": "code",
   "execution_count": 20,
   "metadata": {},
   "outputs": [
    {
     "data": {
      "text/plain": [
       "1220120"
      ]
     },
     "execution_count": 20,
     "metadata": {},
     "output_type": "execute_result"
    }
   ],
   "source": [
    "t1"
   ]
  },
  {
   "cell_type": "code",
   "execution_count": 73,
   "metadata": {},
   "outputs": [
    {
     "name": "stdout",
     "output_type": "stream",
     "text": [
      "+---------+------------------------------------+------------+--------------------------------------------+-------------------+\n",
      "|user_id  |order_id                            |total_amount|items                                       |order_timestamp    |\n",
      "+---------+------------------------------------+------------+--------------------------------------------+-------------------+\n",
      "|552265052|788c91d9-636d-4c42-8647-24133c8f7cf4|696.77      |[{6700993, 1, 346.98}, {6701183, 1, 349.79}]|2019-10-04 11:05:19|\n",
      "+---------+------------------------------------+------------+--------------------------------------------+-------------------+\n",
      "\n",
      "+---------+-------------------------------------------------------------------------------------------------------------------+\n",
      "|user_id  |purchase_history                                                                                                   |\n",
      "+---------+-------------------------------------------------------------------------------------------------------------------+\n",
      "|552265052|[{788c91d9-636d-4c42-8647-24133c8f7cf4, 2019-10-04 11:05:19, 696.77, [{6700993, 1, 346.98}, {6701183, 1, 349.79}]}]|\n",
      "+---------+-------------------------------------------------------------------------------------------------------------------+\n",
      "\n",
      "+--------------------+-------------------+------------+--------------------+\n",
      "|            order_id|    order_timestamp|total_amount|               items|\n",
      "+--------------------+-------------------+------------+--------------------+\n",
      "|788c91d9-636d-4c4...|2019-10-04 11:05:19|      696.77|[{6700993, 1, 346...|\n",
      "+--------------------+-------------------+------------+--------------------+\n",
      "\n"
     ]
    }
   ],
   "source": [
    "# lịch sử mua hàng\n",
    "df1 = df.filter(col(\"event_type\") == \"purchase\")\\\n",
    ".groupBy(\"user_id\", \"user_session\", \"product_id\")\\\n",
    ".agg(\n",
    "    count(\"*\").alias(\"quantity\"),\n",
    "    first(\"price\").alias(\"price\")  # hoặc avg(\"price\") nếu giá có thể thay đổi\n",
    ")\n",
    "order_time_df_1 = df.filter(col(\"event_type\") == \"purchase\")\\\n",
    "        .groupBy(\"user_id\", \"user_session\")\\\n",
    "        .agg(min(\"event_time\").alias(\"order_timestamp\"))\n",
    "\n",
    "df2 = df1.groupBy(\"user_id\", \"user_session\").agg(\n",
    "    sum(col(\"quantity\") * col(\"price\")).alias(\"total_amount\"),\n",
    "    collect_list(struct(\n",
    "        col(\"product_id\"),\n",
    "        col(\"quantity\"),\n",
    "        col(\"price\")\n",
    "    )).alias(\"items\")\n",
    ")\n",
    "purchase_history_1 = df2.join(order_time_df_1, on=[\"user_id\", \"user_session\"])\n",
    "purchase_history_1= purchase_history_1.withColumnRenamed(\"user_session\",\"order_id\")\n",
    "# purchase_history_1.where(col('user_id') == \"552265052\").show(truncate=False)\n",
    "\n",
    "#ngay thu 2\n",
    "df_2 = spark.read.csv(\"./data/part-10/2019-10-04.csv\", header=True, inferSchema=True)\n",
    "df_2 = df_2.withColumn(\"event_time\", to_timestamp(\"event_time\"))\n",
    "\n",
    "# Lọc purchase và tính quantity, price\n",
    "df3 = df_2.filter(col(\"event_type\") == \"purchase\") \\\n",
    "    .groupBy(\"user_id\", \"user_session\", \"product_id\") \\\n",
    "    .agg(\n",
    "        count(\"*\").alias(\"quantity\"),\n",
    "        first(\"price\").alias(\"price\")  # hoặc avg(\"price\")\n",
    "    )\n",
    "\n",
    "# Tính thời gian order đầu tiên\n",
    "order_time_df_2 = df_2.filter(col(\"event_type\") == \"purchase\") \\\n",
    "    .groupBy(\"user_id\", \"user_session\") \\\n",
    "    .agg(min(\"event_time\").alias(\"order_timestamp\"))\n",
    "\n",
    "# Gom đơn\n",
    "df4 = df3.groupBy(\"user_id\", \"user_session\").agg(\n",
    "    sum(col(\"quantity\") * col(\"price\")).alias(\"total_amount\"),\n",
    "    collect_list(struct(\n",
    "        col(\"product_id\"),\n",
    "        col(\"quantity\"),\n",
    "        col(\"price\")\n",
    "    )).alias(\"items\")\n",
    ")\n",
    "\n",
    "# Join thời gian order vào\n",
    "purchase_history_2 = df4.join(order_time_df_2, on=[\"user_id\", \"user_session\"])\n",
    "purchase_history_2 = purchase_history_2.withColumnRenamed(\"user_session\", \"order_id\")\n",
    "purchase_history_2.where(col('user_id') == \"552265052\").show(truncate = False)\n",
    "purchase_history = purchase_history_1.join(purchase_history_2.withColumnRenamed(\"user_session\", \"order_id\"), \"user_id\", \"left\")\n",
    "purchase_history_2=purchase_history_2.groupBy(\"user_id\").agg(\n",
    "    collect_list(struct(\n",
    "        \"order_id\",\n",
    "        \"order_timestamp\",\n",
    "        \"total_amount\",\n",
    "        \"items\" \\\n",
    "    )).alias(\"purchase_history\")\n",
    ")\n",
    "purchase_history_2.where(col('user_id') == \"552265052\").show(truncate = False)\n",
    "t = purchase_history_2\\\n",
    "    .where(col('user_id') == \"552265052\").select(\"user_id\",explode(\"purchase_history\").alias(\"order\"))\n",
    "t.select('order.*').show()"
   ]
  },
  {
   "cell_type": "code",
   "execution_count": 51,
   "metadata": {},
   "outputs": [
    {
     "name": "stdout",
     "output_type": "stream",
     "text": [
      "+---------+---------------+\n",
      "|  user_id|recent_purchase|\n",
      "+---------+---------------+\n",
      "|440756116|     [31500231]|\n",
      "|451971397|      [2800203]|\n",
      "|453705583|     [22600031]|\n",
      "|457360398|      [6200373]|\n",
      "+---------+---------------+\n",
      "only showing top 4 rows\n",
      "\n"
     ]
    }
   ],
   "source": [
    "#mua gan day\n",
    "recent_df = purchase_history.select(\n",
    "    \"user_id\", \"order_timestamp\", explode(\"items\").alias(\"item\")\n",
    ").select(\n",
    "    \"user_id\",\n",
    "    \"order_timestamp\",\n",
    "    col(\"item.product_id\").alias(\"product_id\")\n",
    ")\n",
    "window = Window.partitionBy(\"user_id\").orderBy(col(\"order_timestamp\").desc())\n",
    "recent_df = recent_df.withColumn(\"rank\", row_number().over(window))\n",
    "recent_df.filter(col(\"rank\")<=5)\\\n",
    ".groupBy(\"user_id\").agg(collect_list(\"product_id\").alias(\"recent_purchase\")).show(4)"
   ]
  },
  {
   "cell_type": "code",
   "execution_count": 84,
   "metadata": {},
   "outputs": [
    {
     "name": "stdout",
     "output_type": "stream",
     "text": [
      "+---------+------------------------------------------------------------------------------------------------------------------------------------------------------+\n",
      "|user_id  |category_preferences                                                                                                                                  |\n",
      "+---------+------------------------------------------------------------------------------------------------------------------------------------------------------+\n",
      "|244951053|{electronics.smartphone -> 0.2}                                                                                                                       |\n",
      "|330585300|{appliances.environment.vacuum -> 0.6}                                                                                                                |\n",
      "|351866718|{furniture.kitchen.table -> 0.1}                                                                                                                      |\n",
      "|388541724|{kids.toys -> 0.3}                                                                                                                                    |\n",
      "|389518481|{unknow -> 0.1}                                                                                                                                       |\n",
      "|393601619|{unknow -> 0.5, appliances.kitchen.blender -> 0.7}                                                                                                    |\n",
      "|400972610|{unknow -> 0.7}                                                                                                                                       |\n",
      "|417042755|{unknow -> 0.3}                                                                                                                                       |\n",
      "|418729279|{unknow -> 0.3}                                                                                                                                       |\n",
      "|420339201|{unknow -> 0.1}                                                                                                                                       |\n",
      "|424165783|{furniture.living_room.cabinet -> 0.1, unknow -> 0.3}                                                                                                 |\n",
      "|424357361|{electronics.smartphone -> 0.1}                                                                                                                       |\n",
      "|425417062|{unknow -> 0.1}                                                                                                                                       |\n",
      "|427664011|{unknow -> 0.3}                                                                                                                                       |\n",
      "|429525797|{electronics.smartphone -> 0.6}                                                                                                                       |\n",
      "|429716458|{appliances.environment.vacuum -> 0.5, unknow -> 0.3}                                                                                                 |\n",
      "|432867328|{computers.notebook -> 0.4}                                                                                                                           |\n",
      "|434034973|{unknow -> 0.1, electronics.smartphone -> 0.1}                                                                                                        |\n",
      "|437675804|{appliances.sewing_machine -> 0.3, appliances.environment.water_heater -> 0.1, appliances.kitchen.refrigerators -> 0.2, electronics.smartphone -> 0.2}|\n",
      "|438694124|{unknow -> 0.2}                                                                                                                                       |\n",
      "+---------+------------------------------------------------------------------------------------------------------------------------------------------------------+\n",
      "only showing top 20 rows\n",
      "\n"
     ]
    }
   ],
   "source": [
    "# the loai yeu thich StructField(\"category_preferences\", MapType(StringType(), FloatType()), True),\n",
    "\n",
    "event_weights={\"view\": 0.1, \"cart\": 0.2, \"purchase\":0.3}\n",
    "scored_events = df.withColumn(\n",
    "        \"score\",\n",
    "        when(col(\"event_type\") == \"view\", lit(event_weights.get(\"view\", 0)))\n",
    "        .when(col(\"event_type\") == \"purchase\", lit(event_weights.get(\"purchase\", 0)))\n",
    "        .when(col(\"event_type\") == \"cart\", lit(event_weights.get(\"cart\", 0)))\n",
    "        .otherwise(lit(0.0)))\\\n",
    "                .withColumn(\"category_code\", coalesce(\"category_code\", lit(\"unknow\")))\n",
    "category_preferences = scored_events.groupBy(\"user_id\",\"category_code\").agg(sum(\"score\").alias(\"total_score\"))\\\n",
    ".withColumn(\"total_score\",round(col(\"total_score\"),2))\\\n",
    ".groupBy(\"user_id\").agg(map_from_entries((collect_list(struct(\"category_code\",\"total_score\")))).alias(\"category_preferences\"))\n",
    "category_preferences.show(truncate=False)"
   ]
  },
  {
   "cell_type": "code",
   "execution_count": 13,
   "metadata": {},
   "outputs": [
    {
     "name": "stdout",
     "output_type": "stream",
     "text": [
      "+---------+-------------------+------------------+-------------------+\n",
      "|  user_id|first_activity_date|last_purchase_date|    last_active_day|\n",
      "+---------+-------------------+------------------+-------------------+\n",
      "|555447570|2019-10-01 07:00:28|              NULL|2019-10-01 07:09:55|\n",
      "|524493281|2019-10-01 09:17:22|              NULL|2019-10-01 09:22:13|\n",
      "|543091275|2019-10-01 09:17:38|              NULL|2019-10-01 09:24:07|\n",
      "|509481306|2019-10-01 09:19:51|              NULL|2019-10-01 09:19:51|\n",
      "|513992906|2019-10-01 09:20:45|              NULL|2019-10-01 09:21:27|\n",
      "+---------+-------------------+------------------+-------------------+\n",
      "only showing top 5 rows\n",
      "\n"
     ]
    }
   ],
   "source": [
    "snapshot_date = \"2019-11-20\"\n",
    "df_churn = df.groupBy(\"user_id\").agg(\n",
    "        min(col(\"event_time\")).alias(\"first_activity_date\"),\n",
    "        max(when(col(\"event_type\") == \"purchase\", col(\"event_time\"))).alias(\"last_purchase_date\"),\n",
    "        max(when(col(\"event_type\").isin(\"view\",\"cart\"), col(\"event_time\"))).alias(\"last_active_day\")\n",
    "    )\n",
    "\n",
    "# df_churn = df_churn.withColumn(\"days_since_last_purchase\", datediff(lit(snapshot_date), col(\"last_purchase_date\")))\\\n",
    "#                        .withColumn(\"days_since_last_activity\", datediff(lit(snapshot_date), col(\"last_active_day\")))\n",
    "\n",
    "# df_churn = df_churn.withColumn(\"churn_risk\",\n",
    "#         when(col(\"days_since_last_purchase\") > 30, \"High\")\n",
    "#         .when(col(\"days_since_last_activity\") > 51, \"High\")\n",
    "#         .when((col(\"days_since_last_purchase\") > 15) & (col(\"days_since_last_activity\") < 30), \"Medium\")\n",
    "#         .otherwise(\"Low\"))\n",
    "df_churn.show(5)"
   ]
  },
  {
   "cell_type": "code",
   "execution_count": 29,
   "metadata": {},
   "outputs": [
    {
     "name": "stdout",
     "output_type": "stream",
     "text": [
      "+---------+---------------------+--------------------+------------------+-------------------+------------+\n",
      "|  user_id|first_visit_timestamp|last_visit_timestamp|last_purchase_date|    last_active_day|total_visits|\n",
      "+---------+---------------------+--------------------+------------------+-------------------+------------+\n",
      "|513992906|  2019-10-01 09:20:45| 2019-10-01 09:21:27|              NULL|2019-10-01 09:21:27|           1|\n",
      "|530039999|  2019-10-01 09:47:08| 2019-10-01 10:02:42|              NULL|2019-10-01 10:02:42|           2|\n",
      "|521210344|  2019-10-01 10:49:33| 2019-10-01 15:25:20|              NULL|2019-10-01 15:25:20|           4|\n",
      "|553649979|  2019-10-01 09:51:05| 2019-10-01 09:55:02|              NULL|2019-10-01 09:55:02|           1|\n",
      "|534133224|  2019-10-01 10:24:48| 2019-10-01 14:04:48|              NULL|2019-10-01 14:04:48|           3|\n",
      "+---------+---------------------+--------------------+------------------+-------------------+------------+\n",
      "only showing top 5 rows\n",
      "\n"
     ]
    }
   ],
   "source": [
    "time_stamp = df.groupBy(\"user_id\").agg(\n",
    "           min(\"event_time\").alias(\"first_visit_timestamp\"),\n",
    "           max(\"event_time\").alias(\"last_visit_timestamp\"),\n",
    "           max(when(col(\"event_type\")==\"purchase\",col(\"event_time\"))).alias(\"last_purchase_date\"),\n",
    "           max(when(col(\"event_type\").isin(\"view\",\"cart\"), col(\"event_time\"))).alias(\"last_active_day\"),\n",
    "           countDistinct(\"user_session\").alias(\"total_visits\"))\n",
    "time_stamp.select(\"user_id\", \"first_visit_timestamp\",\"last_visit_timestamp\",\"last_purchase_date\",\"last_active_day\",\"total_visits\").show(5)\n",
    "\n"
   ]
  },
  {
   "cell_type": "code",
   "execution_count": 28,
   "metadata": {},
   "outputs": [
    {
     "name": "stdout",
     "output_type": "stream",
     "text": [
      "+---------+-----------+\n",
      "|  user_id|total_Visit|\n",
      "+---------+-----------+\n",
      "|513992906|          1|\n",
      "|530039999|          2|\n",
      "+---------+-----------+\n",
      "only showing top 2 rows\n",
      "\n"
     ]
    }
   ],
   "source": [
    "visit = df.groupBy(\"user_id\").agg(countDistinct(\"user_session\").alias(\"total_Visit\")).show(2)"
   ]
  },
  {
   "cell_type": "code",
   "execution_count": 27,
   "metadata": {},
   "outputs": [
    {
     "name": "stdout",
     "output_type": "stream",
     "text": [
      "+-------------------+----------+----------+-------------------+--------------------+-----+------+---------+--------------------+\n",
      "|         event_time|event_type|product_id|        category_id|       category_code|brand| price|  user_id|        user_session|\n",
      "+-------------------+----------+----------+-------------------+--------------------+-----+------+---------+--------------------+\n",
      "|2019-10-01 09:17:22|      view|   1307073|2053013558920217191|  computers.notebook| acer| 669.0|524493281|bc8761db-6f7a-4da...|\n",
      "|2019-10-01 09:18:03|      view|  26402619|2053013563651392361|                NULL| NULL| 382.1|524493281|bc8761db-6f7a-4da...|\n",
      "|2019-10-01 09:18:58|      view|   3701359|2053013565983425517|appliances.enviro...|bosch|181.34|524493281|bc8761db-6f7a-4da...|\n",
      "|2019-10-01 09:22:13|      view|   2800203|2053013563835941749|appliances.kitche...| NULL|199.17|524493281|bc8761db-6f7a-4da...|\n",
      "+-------------------+----------+----------+-------------------+--------------------+-----+------+---------+--------------------+\n",
      "\n"
     ]
    }
   ],
   "source": [
    "df.filter(col(\"user_id\")== \"524493281\").show()"
   ]
  },
  {
   "cell_type": "code",
   "execution_count": 90,
   "metadata": {},
   "outputs": [
    {
     "name": "stdout",
     "output_type": "stream",
     "text": [
      "root\n",
      " |-- user_id: string (nullable = true)\n",
      " |-- first_visit_timestamp: timestamp (nullable = true)\n",
      " |-- last_visit_timestamp: timestamp (nullable = true)\n",
      " |-- last_purchase_date: timestamp (nullable = true)\n",
      " |-- last_active_date: timestamp (nullable = true)\n",
      " |-- total_visits: long (nullable = false)\n",
      " |-- purchase_history: array (nullable = true)\n",
      " |    |-- element: struct (containsNull = true)\n",
      " |    |    |-- order_id: string (nullable = false)\n",
      " |    |    |-- order_timestamp: timestamp (nullable = false)\n",
      " |    |    |-- total_amount: float (nullable = false)\n",
      " |    |    |-- items: array (nullable = false)\n",
      " |    |    |    |-- element: struct (containsNull = true)\n",
      " |    |    |    |    |-- product_id: string (nullable = false)\n",
      " |    |    |    |    |-- quantity: integer (nullable = false)\n",
      " |    |    |    |    |-- price: float (nullable = false)\n",
      " |-- recent_purchases: array (nullable = true)\n",
      " |    |-- element: string (containsNull = true)\n",
      " |-- category_preferences: map (nullable = true)\n",
      " |    |-- key: string\n",
      " |    |-- value: float (valueContainsNull = true)\n",
      " |-- brand_preferences: map (nullable = true)\n",
      " |    |-- key: string\n",
      " |    |-- value: float (valueContainsNull = true)\n",
      " |-- churn_prediction: struct (nullable = true)\n",
      " |    |-- probability: float (nullable = true)\n",
      " |    |-- predicted_class: boolean (nullable = true)\n",
      " |    |-- last_prediction_timestamp: timestamp (nullable = true)\n",
      " |-- recommendations: struct (nullable = true)\n",
      " |    |-- personalized: array (nullable = true)\n",
      " |    |    |-- element: string (containsNull = true)\n",
      " |    |-- trending: array (nullable = true)\n",
      " |    |    |-- element: string (containsNull = true)\n",
      " |-- segments: string (nullable = true)\n",
      " |-- last_used_timestamp: timestamp (nullable = true)\n",
      " |-- first_visit_timestamp: timestamp (nullable = true)\n",
      " |-- last_visit_timestamp: timestamp (nullable = true)\n",
      " |-- last_purchase_date: timestamp (nullable = true)\n",
      " |-- last_active_date: timestamp (nullable = true)\n",
      " |-- total_visits: long (nullable = false)\n",
      "\n"
     ]
    }
   ],
   "source": [
    "from pyspark.sql import SparkSession\n",
    "from pyspark.sql.functions import*\n",
    "from pyspark.sql.window import Window\n",
    "from pyspark.sql.types import *\n",
    "from datetime import datetime, timedelta\n",
    "user_profile_schema = StructType([\n",
    "    StructField(\"user_id\", StringType(), False),\n",
    "    StructField(\"first_visit_timestamp\", TimestampType(), True),\n",
    "    StructField(\"last_visit_timestamp\", TimestampType(), True),\n",
    "    StructField(\"last_purchase_date\", TimestampType(), True),\n",
    "    StructField(\"last_active_date\", TimestampType(), True),\n",
    "    StructField(\"total_visits\", IntegerType(), True),\n",
    "    StructField(\"purchase_history\", ArrayType(StructType([\n",
    "        StructField(\"order_id\", StringType(), False),\n",
    "        StructField(\"order_timestamp\", TimestampType(), False),\n",
    "        StructField(\"total_amount\", FloatType(), False),\n",
    "        StructField(\"items\", ArrayType(StructType([\n",
    "            StructField(\"product_id\", StringType(), False),\n",
    "            StructField(\"quantity\", IntegerType(), False),\n",
    "            StructField(\"price\", FloatType(), False)\n",
    "        ])), False)\n",
    "    ])), True),\n",
    "    StructField(\"recent_purchases\", ArrayType(StringType()), True),\n",
    "    StructField(\"category_preferences\", MapType(StringType(), FloatType()), True),\n",
    "    StructField(\"brand_preferences\", MapType(StringType(), FloatType()), True),\n",
    "    StructField(\"churn_prediction\", StructType([\n",
    "        StructField(\"probability\", FloatType(), True),\n",
    "        StructField(\"predicted_class\", BooleanType(), True),\n",
    "        StructField(\"last_prediction_timestamp\", TimestampType(), True)\n",
    "    ]), True),\n",
    "    StructField(\"recommendations\", StructType([\n",
    "        StructField(\"personalized\", ArrayType(StringType()), True),\n",
    "        StructField(\"trending\", ArrayType(StringType()), True)\n",
    "    ]), True),\n",
    "    StructField(\"segments\", StringType(), True),\n",
    "    StructField(\"last_used_timestamp\", TimestampType(), True)\n",
    "])\n",
    "\n",
    "def compute_timestamp(df_logs):\n",
    "    #Tính toán thời điểm người dùng xuất hiện lần đầu tiên và lần cuối dựa trên log sự kiện.\n",
    "    return df_logs.groupBy(\"user_id\").agg(\n",
    "           min(\"event_time\").alias(\"first_visit_timestamp\"),\n",
    "           max(\"event_time\").alias(\"last_visit_timestamp\"),\n",
    "           max(when(col(\"event_type\")==\"purchase\",col(\"event_time\"))).alias(\"last_purchase_date\"),\n",
    "           max(when(col(\"event_type\").isin(\"view\",\"cart\"), col(\"event_time\"))).alias(\"last_active_date\"),\n",
    "           countDistinct(\"user_session\").alias(\"total_visits\"))\\\n",
    "            .select(\"user_id\", \"first_visit_timestamp\",\"last_visit_timestamp\",\"last_purchase_date\",\"last_active_date\",\"total_visits\")\n",
    " \n",
    "def compute_purchase_history(df_logs):\n",
    "       product_agg = df_logs.filter(col(\"event_type\") == \"purchase\")\\\n",
    "        .groupBy(\"user_id\", \"user_session\", \"product_id\")\\\n",
    "        .agg(\n",
    "            count(\"*\").alias(\"quantity\"),\n",
    "            first(\"price\").alias(\"price\")\n",
    "            )\n",
    "       order_time_df = df_logs.filter(col(\"event_type\") == \"purchase\")\\\n",
    "        .groupBy(\"user_id\", \"user_session\")\\\n",
    "        .agg(min(\"event_time\").alias(\"order_timestamp\"))\n",
    "       \n",
    "       purchase_history_df = product_agg.groupBy(\"user_id\", \"user_session\").agg(\n",
    "        sum(col(\"quantity\") * col(\"price\")).alias(\"total_amount\"),\n",
    "        collect_list(\n",
    "            struct(col(\"product_id\"), col(\"quantity\"), col(\"price\"))\n",
    "            ).alias(\"items\"))\n",
    "       \n",
    "       purchase_history = purchase_history_df.join(order_time_df, on =[\"user_id\",\"user_session\"])\\\n",
    "                                            .withColumnRenamed(\"user_session\",\"order_id\")\n",
    "       daily_purchase_history = purchase_history.groupBy(\"user_id\").agg(\n",
    "        collect_list(\n",
    "            struct(col(\"order_id\"),col(\"order_timestamp\"),col(\"total_amount\"),col(\"items\"))\n",
    "        ).alias(\"purchase_history\")\n",
    "    )\n",
    "       return daily_purchase_history\n",
    "\n",
    "def compute_recent_purchase(purchase_history):\n",
    "        purchase_history = purchase_history.withColumn(\"order\",explode(col(\"purchase_history\")))\n",
    "        purchase_history = purchase_history.select(\"user_id\",\"order.*\")\n",
    "        recent_df = purchase_history.select(\n",
    "            \"user_id\", \"order_timestamp\", explode(\"items\").alias(\"item\")\n",
    "        ).select(\"user_id\", \"order_timestamp\", col(\"item.product_id\").alias(\"product_id\"))\n",
    "        \n",
    "        window = Window.partitionBy(\"user_id\").orderBy(col(\"order_timestamp\").desc())\n",
    "        recent_df = recent_df.withColumn(\"rank\", row_number().over(window))\n",
    "        recent_purchase = recent_df.filter(col(\"rank\")<=5)\\\n",
    "        .groupBy(\"user_id\").agg(collect_list(\"product_id\").alias(\"recent_purchase\"))\n",
    "        return recent_purchase\n",
    "\n",
    "def compute_category_preferences(df_logs):\n",
    "        event_weights={\"view\": 0.1, \"cart\": 0.2, \"purchase\":0.3}\n",
    "        scored_events = df_logs.withColumn(\"score\",\n",
    "                    when(col(\"event_type\") == \"view\", lit(event_weights.get(\"view\", 0)))\n",
    "                    .when(col(\"event_type\") == \"purchase\", lit(event_weights.get(\"purchase\", 0)))\n",
    "                    .when(col(\"event_type\") == \"cart\", lit(event_weights.get(\"cart\", 0)))\n",
    "                    .otherwise(lit(0.0)))\\\n",
    "                                .withColumn(\"category_code\", coalesce(\"category_code\", lit(\"unknow\")))\n",
    "        \n",
    "        category_preferences = scored_events.groupBy(\"user_id\",\"category_code\").agg(sum(\"score\").alias(\"total_score\"))\\\n",
    "        .withColumn(\"total_score\",round(col(\"total_score\"),2))\\\n",
    "        .groupBy(\"user_id\").agg(map_from_entries((collect_list(struct(\"category_code\",\"total_score\")))).alias(\"category_preferences\"))\n",
    "\n",
    "        return category_preferences\n",
    "\n",
    "def compute_brand_preferences(df_logs):\n",
    "        event_weights={\"view\": 0.1, \"cart\": 0.2, \"purchase\":0.3}\n",
    "        scored_events = df_logs.withColumn(\"score\",\n",
    "                    when(col(\"event_type\") == \"view\", lit(event_weights.get(\"view\", 0)))\n",
    "                    .when(col(\"event_type\") == \"purchase\", lit(event_weights.get(\"purchase\", 0)))\n",
    "                    .when(col(\"event_type\") == \"cart\", lit(event_weights.get(\"cart\", 0)))\n",
    "                    .otherwise(lit(0.0)))\\\n",
    "                                .withColumn(\"brand\", coalesce(\"brand\", lit(\"unknow\")))\n",
    "        \n",
    "        brand_preferences = scored_events.groupBy(\"user_id\",\"brand\").agg(sum(\"score\").alias(\"total_score\"))\\\n",
    "        .withColumn(\"total_score\",round(col(\"total_score\"),2))\\\n",
    "        .groupBy(\"user_id\").agg(map_from_entries((collect_list(struct(\"brand\",\"total_score\")))).alias(\"brand_preferences\"))\n",
    "        return brand_preferences\n",
    "\n",
    "\n",
    "def pro():\n",
    "        spark = SparkSession.builder \\\n",
    "        .appName(\"Transformation\") \\\n",
    "        .master(\"spark://spark-master:7077\")\\\n",
    "        .getOrCreate()\n",
    "\n",
    "        df_logs = spark.read.csv(\"./data/part-10/2019-10-01.csv\",header=True, inferSchema=True)\n",
    "\n",
    "        timestamp = compute_timestamp(df_logs)\n",
    "        purchase_history = compute_purchase_history(df_logs)\n",
    "        recent_purchase = compute_recent_purchase(purchase_history)\n",
    "        category_preferences = compute_category_preferences(df_logs)\n",
    "        brand_preferences = compute_brand_preferences(df_logs)\n",
    "\n",
    "        df_profile = spark.createDataFrame([], schema=user_profile_schema)\n",
    "\n",
    "        # Kết hợp các thành phần mới với profile hiện tại\n",
    "        profile_update = df_profile.join(timestamp, \"user_id\", \"outer\")\\\n",
    "                        .withColumn(\"first_visit_timestamp\",least(df_profile[\"first_visit_timestamp\"], timestamp[\"first_visit_timestamp\"]))\\\n",
    "                        .withColumn(\"last_visit_timestamp\",greatest(df_profile[\"last_visit_timestamp\"], timestamp[\"last_visit_timestamp\"]))\\\n",
    "                        .withColumn(\"last_purchase_date\",\n",
    "                                    greatest(\n",
    "                                        coalesce(df_profile[\"last_purchase_date\"],lit(None)), \n",
    "                                        coalesce(timestamp[\"last_purchase_date\"],lit(None))\n",
    "                                        )\n",
    "                                    )\\\n",
    "                        .withColumn(\"last_active_date\",\n",
    "                                    greatest(\n",
    "                                        coalesce(df_profile[\"last_active_date\"],lit(None)), \n",
    "                                        coalesce(timestamp[\"last_active_date\"]),lit(None)\n",
    "                                        )\n",
    "                                    )\\\n",
    "                        .withColumn(\"total_visits\",coalesce(df_profile[\"total_visits\"],lit(0)) + coalesce(timestamp[\"total_visits\"],lit(0)))\n",
    "        return profile_update\n",
    "a = pro()\n",
    "a.printSchema()"
   ]
  },
  {
   "cell_type": "code",
   "execution_count": 1,
   "metadata": {},
   "outputs": [],
   "source": [
    "import duckdb\n",
    "con = duckdb.connect(\"./data/2019-10.duckdb\")\n",
    "# con.execute(f\"CREATE TABLE IF NOT EXISTS logs AS SELECT * FROM read_csv('./kaggle-data/2019-10.csv')\")\n",
    "# con.execute(\"CREATE SEQUENCE serial START 1\")\n",
    "# con.execute(\"ALTER TABLE logs ADD COLUMN id BIGINT DEFAULT nextval('serial')\")\n",
    "# con.execute(\"CHECKPOINT\")\n",
    "\n",
    "\n"
   ]
  },
  {
   "cell_type": "code",
   "execution_count": 2,
   "metadata": {},
   "outputs": [
    {
     "name": "stdout",
     "output_type": "stream",
     "text": [
      "logs\n",
      "logs_test\n"
     ]
    }
   ],
   "source": [
    "# #ngay 1: 1244245 dong\n",
    "query1 =\"\"\"\n",
    "\n",
    "\"\"\"\n",
    "query = \"\"\"\n",
    "CREATE TABLE logs_test AS\n",
    "SELECT \n",
    "    row_number() OVER () AS id,\n",
    "    *\n",
    "FROM read_csv_auto('./kaggle-data/2019-10.csv');\n",
    "\"\"\"\n",
    "\n",
    "# t=con.execute(query).fetchall()\n",
    "# print(t)\n",
    "# query2=\"\"\"\n",
    "# SELECT event_time, event_type, product_id, category_id, category_code, brand, price, user_id, user_session, COUNT(*) as cnt\n",
    "# FROM logs\n",
    "# WHERE cast(event_time as date) == '2019-10-01'\n",
    "# GROUP BY event_time, event_type, product_id, category_id, category_code, brand, price, user_id, user_session\n",
    "# HAVING COUNT(*) > 1\n",
    "# ORDER BY cnt DESC\"\"\"\n",
    "con.execute(query).fetchall()\n",
    "# print(t)\n",
    "# con.execute(\"DROP TABLE IF EXISTS logs_with_id\")\n",
    "tables = con.execute(\"SELECT table_name FROM information_schema.tables WHERE table_schema = 'main'\").fetchall()\n",
    "\n",
    "# Hiển thị kết quả\n",
    "for table in tables:\n",
    "    print(table[0])"
   ]
  },
  {
   "cell_type": "code",
   "execution_count": 11,
   "metadata": {},
   "outputs": [
    {
     "data": {
      "text/plain": [
       "[(1191328, 184965)]"
      ]
     },
     "execution_count": 11,
     "metadata": {},
     "output_type": "execute_result"
    }
   ],
   "source": [
    "con.execute(\"select COUNT(*) AS total_records, count(distinct user_id) from logs where cast(event_time as date) == '2019-10-02' \").fetchall()"
   ]
  },
  {
   "cell_type": "code",
   "execution_count": 55,
   "metadata": {},
   "outputs": [],
   "source": [
    "from pyspark.sql import SparkSession    \n",
    "from pyspark.sql.functions import *\n",
    "spark = SparkSession.builder.appName(\"RECO ALS\").getOrCreate()\n",
    "testdf = spark.read.csv(\"./data/part-10/2019-10-02.csv\",header=True)"
   ]
  },
  {
   "cell_type": "code",
   "execution_count": 56,
   "metadata": {},
   "outputs": [
    {
     "name": "stdout",
     "output_type": "stream",
     "text": [
      "+--------------------+----------+----------+-------------------+--------------------+-------+------+---------+--------------------+\n",
      "|          event_time|event_type|product_id|        category_id|       category_code|  brand| price|  user_id|        user_session|\n",
      "+--------------------+----------+----------+-------------------+--------------------+-------+------+---------+--------------------+\n",
      "|2019-10-02 03:46:...|  purchase|   1004833|2053013555631882655|electronics.smart...|samsung|174.34|525454715|fffc6f01-ba1f-4f9...|\n",
      "|2019-10-02 03:47:...|  purchase|   1004833|2053013555631882655|electronics.smart...|samsung|174.34|525454715|fffc6f01-ba1f-4f9...|\n",
      "|2019-10-02 04:54:...|  purchase|   1004833|2053013555631882655|electronics.smart...|samsung|174.34|525454715|f721c3d4-42ee-4a4...|\n",
      "|2019-10-02 05:00:...|  purchase|   1004833|2053013555631882655|electronics.smart...|samsung|174.34|525454715|f721c3d4-42ee-4a4...|\n",
      "|2019-10-02 05:00:...|  purchase|   1004833|2053013555631882655|electronics.smart...|samsung|174.34|525454715|f721c3d4-42ee-4a4...|\n",
      "|2019-10-02 10:00:...|  purchase|   1004833|2053013555631882655|electronics.smart...|samsung| 174.3|525454715|f54784a6-be60-4f3...|\n",
      "|2019-10-02 12:39:...|  purchase|   1004833|2053013555631882655|electronics.smart...|samsung|174.34|525454715|51e2a4e2-65ea-4d8...|\n",
      "+--------------------+----------+----------+-------------------+--------------------+-------+------+---------+--------------------+\n",
      "\n"
     ]
    }
   ],
   "source": [
    "testdf = testdf.where(col(\"user_id\")==\"525454715\")\\\n",
    "                .where(col(\"event_type\")==\"purchase\")\n",
    "testdf.show()"
   ]
  },
  {
   "cell_type": "code",
   "execution_count": 62,
   "metadata": {},
   "outputs": [
    {
     "name": "stdout",
     "output_type": "stream",
     "text": [
      "+---------+--------------------+--------------------+------------+--------------------+\n",
      "|  user_id|            order_id|     order_timestamp|total_amount|               items|\n",
      "+---------+--------------------+--------------------+------------+--------------------+\n",
      "|525454715|51e2a4e2-65ea-4d8...|2019-10-02 12:39:...|       174.0|[{1004833, 1, 174...|\n",
      "|525454715|fffc6f01-ba1f-4f9...|2019-10-02 03:46:...|       348.0|[{1004833, 2, 174...|\n",
      "|525454715|f54784a6-be60-4f3...|2019-10-02 10:00:...|       174.0|[{1004833, 1, 174...|\n",
      "|525454715|f721c3d4-42ee-4a4...|2019-10-02 04:54:...|       522.0|[{1004833, 3, 174...|\n",
      "+---------+--------------------+--------------------+------------+--------------------+\n",
      "\n"
     ]
    }
   ],
   "source": [
    "def compute_purchase_history(df_logs):\n",
    "    product_agg = df_logs.filter(col(\"event_type\") == \"purchase\") \\\n",
    "        .groupBy(\"user_id\", \"user_session\", \"product_id\") \\\n",
    "        .agg(\n",
    "            count(\"*\").alias(\"quantity\"),\n",
    "            round(first(\"price\")).alias(\"price\"),\n",
    "            min(\"event_time\").alias(\"order_timestamp\")\n",
    "        )\n",
    "\n",
    "    purchase_history_df = product_agg.groupBy(\"user_id\", \"user_session\").agg(\n",
    "        round(sum(col(\"quantity\") * col(\"price\")), 2).alias(\"total_amount\"),\n",
    "        first(\"order_timestamp\").alias(\"order_timestamp\"),\n",
    "        collect_list(\n",
    "            struct(col(\"product_id\"), col(\"quantity\"), col(\"price\"))\n",
    "        ).alias(\"items\")) \\\n",
    "        .withColumnRenamed(\"user_session\", \"order_id\")\n",
    "\n",
    "    daily_purchase_history = purchase_history_df.groupBy(\"user_id\").agg(\n",
    "        collect_list(\n",
    "            struct(col(\"order_id\"), col(\"order_timestamp\"), col(\"total_amount\"), col(\"items\"))\n",
    "        ).alias(\"purchase_history\"))\n",
    "    return daily_purchase_history\n",
    "testd = compute_purchase_history(testdf)\n",
    "t1= testd.select(\"user_id\",explode(\"purchase_history\").alias(\"order\"))\\\n",
    "        .select(\"user_id\",\"order.*\")\n",
    "t1.show()"
   ]
  },
  {
   "cell_type": "code",
   "execution_count": 54,
   "metadata": {},
   "outputs": [
    {
     "name": "stdout",
     "output_type": "stream",
     "text": [
      "+---------+----------------+\n",
      "|  user_id|recent_purchases|\n",
      "+---------+----------------+\n",
      "|525454715|  [{1004833, 7}]|\n",
      "+---------+----------------+\n",
      "\n"
     ]
    }
   ],
   "source": [
    "from pyspark.sql.window import Window\n",
    "\n",
    "purchase_history = testd.withColumn(\"order\",explode(col(\"purchase_history\")))\n",
    "purchase_history = purchase_history.select(\"user_id\",\"order.*\")\n",
    "recent_df = purchase_history.select(\n",
    "            \"user_id\", \"order_timestamp\", explode(\"items\").alias(\"item\")\n",
    "        ).select(\"user_id\", \"order_timestamp\", col(\"item.product_id\").alias(\"product_id\"),col(\"item.price\").alias(\"price\"),col(\"item.quantity\").alias(\"quantity\"))\n",
    "window = Window.orderBy(col(\"order_timestamp\").desc()).partitionBy(\"user_id\")\n",
    "recent_df=recent_df.withColumn(\"rank\", row_number().over(window))\\\n",
    "            .groupBy(\"user_id\",\"product_id\").agg(sum(\"quantity\").alias(\"quantity\"))\\\n",
    "                                                                .groupBy(\"user_id\").agg(collect_list(struct(\"product_id\",\"quantity\")).alias(\"recent_purchases\"))\n",
    "\n",
    "recent_df.show()"
   ]
  }
 ],
 "metadata": {
  "kernelspec": {
   "display_name": "Python 3",
   "language": "python",
   "name": "python3"
  },
  "language_info": {
   "codemirror_mode": {
    "name": "ipython",
    "version": 3
   },
   "file_extension": ".py",
   "mimetype": "text/x-python",
   "name": "python",
   "nbconvert_exporter": "python",
   "pygments_lexer": "ipython3",
   "version": "3.12.6"
  }
 },
 "nbformat": 4,
 "nbformat_minor": 2
}
