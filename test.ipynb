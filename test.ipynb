{
 "cells": [
  {
   "cell_type": "code",
   "execution_count": 11,
   "metadata": {},
   "outputs": [
    {
     "name": "stdout",
     "output_type": "stream",
     "text": [
      "+-------------------+----------+----------+-------------------+--------------------+---------+-------+---------+--------------------+\n",
      "|         event_time|event_type|product_id|        category_id|       category_code|    brand|  price|  user_id|        user_session|\n",
      "+-------------------+----------+----------+-------------------+--------------------+---------+-------+---------+--------------------+\n",
      "|2019-10-10 00:00:00|      view|   1801922|2053013554415534427|electronics.video.tv|  samsung|1544.16|513417348|05d19a8c-6e5e-460...|\n",
      "|2019-10-10 00:00:00|      view|  35108572|2070005009382114061|   apparel.underwear|milavitsa|  12.85|557616497|4c08a587-46cc-492...|\n",
      "+-------------------+----------+----------+-------------------+--------------------+---------+-------+---------+--------------------+\n",
      "only showing top 2 rows\n",
      "\n"
     ]
    }
   ],
   "source": [
    "from pyspark.sql import SparkSession,Window\n",
    "from pyspark.sql.functions import*\n",
    "\n",
    "spark = SparkSession.builder.appName(\"test\").getOrCreate()\n",
    "\n",
    "df = spark.read.csv(\"./data/part-10/2019-10-10.csv\",header=True, inferSchema=True)\n",
    "df.show(2)\n",
    "\n",
    "\n"
   ]
  },
  {
   "cell_type": "code",
   "execution_count": null,
   "metadata": {},
   "outputs": [
    {
     "ename": "AnalysisException",
     "evalue": "[UNRESOLVED_COLUMN.WITH_SUGGESTION] A column or function parameter with name `first_active_date` cannot be resolved. Did you mean one of the following? [`first_activity_date`, `last_active_day`, `last_purchase_date`, `user_id`, `day_since_last_purchase`].;\n'Project [user_id#1040, first_activity_date#1551, last_purchase_date#1553, last_active_day#1555, day_since_last_purchase#1560, datediff(last_active_day#1555, 'first_active_date) AS day_since_first_activity#1566]\n+- Project [user_id#1040, first_activity_date#1551, last_purchase_date#1553, last_active_day#1555, datediff(cast(last_purchase_date#1553 as date), cast(first_activity_date#1551 as date)) AS day_since_last_purchase#1560]\n   +- Aggregate [user_id#1040], [user_id#1040, min(event_time#1033) AS first_activity_date#1551, max(CASE WHEN (event_type#1034 = purchase) THEN event_time#1033 END) AS last_purchase_date#1553, max(CASE WHEN event_type#1034 IN (view,cart) THEN event_time#1033 END) AS last_active_day#1555]\n      +- Relation [event_time#1033,event_type#1034,product_id#1035,category_id#1036L,category_code#1037,brand#1038,price#1039,user_id#1040,user_session#1041] csv\n",
     "output_type": "error",
     "traceback": [
      "\u001b[1;31m---------------------------------------------------------------------------\u001b[0m",
      "\u001b[1;31mAnalysisException\u001b[0m                         Traceback (most recent call last)",
      "Cell \u001b[1;32mIn[15], line 39\u001b[0m\n\u001b[0;32m     29\u001b[0m window_brand \u001b[38;5;241m=\u001b[39m Window\u001b[38;5;241m.\u001b[39mpartitionBy(\u001b[38;5;124m\"\u001b[39m\u001b[38;5;124muser_id\u001b[39m\u001b[38;5;124m\"\u001b[39m)\u001b[38;5;241m.\u001b[39morderBy(desc(\u001b[38;5;124m\"\u001b[39m\u001b[38;5;124mt\u001b[39m\u001b[38;5;124m\"\u001b[39m))\n\u001b[0;32m     30\u001b[0m df_preferred_brand \u001b[38;5;241m=\u001b[39m df_brand\u001b[38;5;241m.\u001b[39mwithColumn(\u001b[38;5;124m\"\u001b[39m\u001b[38;5;124mrank\u001b[39m\u001b[38;5;124m\"\u001b[39m, rank()\u001b[38;5;241m.\u001b[39mover(window_brand)) \\\n\u001b[0;32m     31\u001b[0m         \u001b[38;5;241m.\u001b[39mfilter(col(\u001b[38;5;124m\"\u001b[39m\u001b[38;5;124mrank\u001b[39m\u001b[38;5;124m\"\u001b[39m) \u001b[38;5;241m<\u001b[39m\u001b[38;5;241m=\u001b[39m \u001b[38;5;241m3\u001b[39m)\\\n\u001b[0;32m     32\u001b[0m         \u001b[38;5;241m.\u001b[39mgroupBy(\u001b[38;5;124m\"\u001b[39m\u001b[38;5;124muser_id\u001b[39m\u001b[38;5;124m\"\u001b[39m)\u001b[38;5;241m.\u001b[39magg(collect_list(\u001b[38;5;124m\"\u001b[39m\u001b[38;5;124mbrand\u001b[39m\u001b[38;5;124m\"\u001b[39m)\u001b[38;5;241m.\u001b[39malias(\u001b[38;5;124m\"\u001b[39m\u001b[38;5;124mpreferred_brands\u001b[39m\u001b[38;5;124m\"\u001b[39m))\n\u001b[0;32m     34\u001b[0m df_churn \u001b[38;5;241m=\u001b[39m \u001b[43mdf\u001b[49m\u001b[38;5;241;43m.\u001b[39;49m\u001b[43mgroupBy\u001b[49m\u001b[43m(\u001b[49m\u001b[38;5;124;43m\"\u001b[39;49m\u001b[38;5;124;43muser_id\u001b[39;49m\u001b[38;5;124;43m\"\u001b[39;49m\u001b[43m)\u001b[49m\u001b[38;5;241;43m.\u001b[39;49m\u001b[43magg\u001b[49m\u001b[43m(\u001b[49m\n\u001b[0;32m     35\u001b[0m \u001b[43m        \u001b[49m\u001b[38;5;28;43mmin\u001b[39;49m\u001b[43m(\u001b[49m\u001b[43mcol\u001b[49m\u001b[43m(\u001b[49m\u001b[38;5;124;43m\"\u001b[39;49m\u001b[38;5;124;43mevent_time\u001b[39;49m\u001b[38;5;124;43m\"\u001b[39;49m\u001b[43m)\u001b[49m\u001b[43m)\u001b[49m\u001b[38;5;241;43m.\u001b[39;49m\u001b[43malias\u001b[49m\u001b[43m(\u001b[49m\u001b[38;5;124;43m\"\u001b[39;49m\u001b[38;5;124;43mfirst_activity_date\u001b[39;49m\u001b[38;5;124;43m\"\u001b[39;49m\u001b[43m)\u001b[49m\u001b[43m,\u001b[49m\n\u001b[0;32m     36\u001b[0m \u001b[43m        \u001b[49m\u001b[38;5;28;43mmax\u001b[39;49m\u001b[43m(\u001b[49m\u001b[43mwhen\u001b[49m\u001b[43m(\u001b[49m\u001b[43mcol\u001b[49m\u001b[43m(\u001b[49m\u001b[38;5;124;43m\"\u001b[39;49m\u001b[38;5;124;43mevent_type\u001b[39;49m\u001b[38;5;124;43m\"\u001b[39;49m\u001b[43m)\u001b[49m\u001b[43m \u001b[49m\u001b[38;5;241;43m==\u001b[39;49m\u001b[43m \u001b[49m\u001b[38;5;124;43m\"\u001b[39;49m\u001b[38;5;124;43mpurchase\u001b[39;49m\u001b[38;5;124;43m\"\u001b[39;49m\u001b[43m,\u001b[49m\u001b[43m \u001b[49m\u001b[43mcol\u001b[49m\u001b[43m(\u001b[49m\u001b[38;5;124;43m\"\u001b[39;49m\u001b[38;5;124;43mevent_time\u001b[39;49m\u001b[38;5;124;43m\"\u001b[39;49m\u001b[43m)\u001b[49m\u001b[43m)\u001b[49m\u001b[43m)\u001b[49m\u001b[38;5;241;43m.\u001b[39;49m\u001b[43malias\u001b[49m\u001b[43m(\u001b[49m\u001b[38;5;124;43m\"\u001b[39;49m\u001b[38;5;124;43mlast_purchase_date\u001b[39;49m\u001b[38;5;124;43m\"\u001b[39;49m\u001b[43m)\u001b[49m\u001b[43m,\u001b[49m\n\u001b[0;32m     37\u001b[0m \u001b[43m        \u001b[49m\u001b[38;5;28;43mmax\u001b[39;49m\u001b[43m(\u001b[49m\u001b[43mwhen\u001b[49m\u001b[43m(\u001b[49m\u001b[43mcol\u001b[49m\u001b[43m(\u001b[49m\u001b[38;5;124;43m\"\u001b[39;49m\u001b[38;5;124;43mevent_type\u001b[39;49m\u001b[38;5;124;43m\"\u001b[39;49m\u001b[43m)\u001b[49m\u001b[38;5;241;43m.\u001b[39;49m\u001b[43misin\u001b[49m\u001b[43m(\u001b[49m\u001b[38;5;124;43m\"\u001b[39;49m\u001b[38;5;124;43mview\u001b[39;49m\u001b[38;5;124;43m\"\u001b[39;49m\u001b[43m,\u001b[49m\u001b[38;5;124;43m\"\u001b[39;49m\u001b[38;5;124;43mcart\u001b[39;49m\u001b[38;5;124;43m\"\u001b[39;49m\u001b[43m)\u001b[49m\u001b[43m,\u001b[49m\u001b[43m \u001b[49m\u001b[43mcol\u001b[49m\u001b[43m(\u001b[49m\u001b[38;5;124;43m\"\u001b[39;49m\u001b[38;5;124;43mevent_time\u001b[39;49m\u001b[38;5;124;43m\"\u001b[39;49m\u001b[43m)\u001b[49m\u001b[43m)\u001b[49m\u001b[43m)\u001b[49m\u001b[38;5;241;43m.\u001b[39;49m\u001b[43malias\u001b[49m\u001b[43m(\u001b[49m\u001b[38;5;124;43m\"\u001b[39;49m\u001b[38;5;124;43mlast_active_day\u001b[39;49m\u001b[38;5;124;43m\"\u001b[39;49m\u001b[43m)\u001b[49m\n\u001b[0;32m     38\u001b[0m \u001b[43m    \u001b[49m\u001b[43m)\u001b[49m\u001b[38;5;241;43m.\u001b[39;49m\u001b[43mwithColumn\u001b[49m\u001b[43m(\u001b[49m\u001b[38;5;124;43m\"\u001b[39;49m\u001b[38;5;124;43mday_since_last_purchase\u001b[39;49m\u001b[38;5;124;43m\"\u001b[39;49m\u001b[43m,\u001b[49m\u001b[43m \u001b[49m\u001b[43mdatediff\u001b[49m\u001b[43m(\u001b[49m\u001b[43mcol\u001b[49m\u001b[43m(\u001b[49m\u001b[38;5;124;43m\"\u001b[39;49m\u001b[38;5;124;43mlast_purchase_date\u001b[39;49m\u001b[38;5;124;43m\"\u001b[39;49m\u001b[43m)\u001b[49m\u001b[43m,\u001b[49m\u001b[43mcol\u001b[49m\u001b[43m(\u001b[49m\u001b[38;5;124;43m\"\u001b[39;49m\u001b[38;5;124;43mfirst_activity_date\u001b[39;49m\u001b[38;5;124;43m\"\u001b[39;49m\u001b[43m)\u001b[49m\u001b[43m)\u001b[49m\u001b[43m)\u001b[49m\u001b[43m\\\u001b[49m\n\u001b[1;32m---> 39\u001b[0m \u001b[43m    \u001b[49m\u001b[38;5;241;43m.\u001b[39;49m\u001b[43mwithColumn\u001b[49m\u001b[43m(\u001b[49m\u001b[38;5;124;43m\"\u001b[39;49m\u001b[38;5;124;43mday_since_first_activity\u001b[39;49m\u001b[38;5;124;43m\"\u001b[39;49m\u001b[43m,\u001b[49m\u001b[43m \u001b[49m\u001b[43mdatediff\u001b[49m\u001b[43m(\u001b[49m\u001b[43mcol\u001b[49m\u001b[43m(\u001b[49m\u001b[38;5;124;43m\"\u001b[39;49m\u001b[38;5;124;43mlast_active_day\u001b[39;49m\u001b[38;5;124;43m\"\u001b[39;49m\u001b[43m)\u001b[49m\u001b[43m,\u001b[49m\u001b[43mcol\u001b[49m\u001b[43m(\u001b[49m\u001b[38;5;124;43m\"\u001b[39;49m\u001b[38;5;124;43mfirst_active_date\u001b[39;49m\u001b[38;5;124;43m\"\u001b[39;49m\u001b[43m)\u001b[49m\u001b[43m)\u001b[49m\u001b[43m)\u001b[49m\n\u001b[0;32m     41\u001b[0m df_churn \u001b[38;5;241m=\u001b[39m df_churn\u001b[38;5;241m.\u001b[39mwithColumn(\u001b[38;5;124m\"\u001b[39m\u001b[38;5;124mchunk_risk\u001b[39m\u001b[38;5;124m\"\u001b[39m,\n\u001b[0;32m     42\u001b[0m                                    when(col(\u001b[38;5;124m\"\u001b[39m\u001b[38;5;124mday_since_last_purchase\u001b[39m\u001b[38;5;124m\"\u001b[39m) \u001b[38;5;241m>\u001b[39m \u001b[38;5;241m30\u001b[39m, \u001b[38;5;124m\"\u001b[39m\u001b[38;5;124mHigh\u001b[39m\u001b[38;5;124m\"\u001b[39m)\n\u001b[0;32m     43\u001b[0m                                    \u001b[38;5;241m.\u001b[39mwhen((col(\u001b[38;5;124m\"\u001b[39m\u001b[38;5;124mday_since_last_purchase\u001b[39m\u001b[38;5;124m\"\u001b[39m) \u001b[38;5;241m>\u001b[39m \u001b[38;5;241m15\u001b[39m) \u001b[38;5;241m&\u001b[39m (col(\u001b[38;5;124m\"\u001b[39m\u001b[38;5;124mday_since_first_activity\u001b[39m\u001b[38;5;124m\"\u001b[39m) \u001b[38;5;241m<\u001b[39m \u001b[38;5;241m30\u001b[39m), \u001b[38;5;124m\"\u001b[39m\u001b[38;5;124mPotential\u001b[39m\u001b[38;5;124m\"\u001b[39m)\n\u001b[0;32m     44\u001b[0m                                    \u001b[38;5;241m.\u001b[39mwhen(col(\u001b[38;5;124m\"\u001b[39m\u001b[38;5;124mday_since_last_purchase\u001b[39m\u001b[38;5;124m\"\u001b[39m )\u001b[38;5;241m>\u001b[39m \u001b[38;5;241m15\u001b[39m, \u001b[38;5;124m\"\u001b[39m\u001b[38;5;124mMedium\u001b[39m\u001b[38;5;124m\"\u001b[39m)\n\u001b[0;32m     45\u001b[0m                                    \u001b[38;5;241m.\u001b[39motherwise(\u001b[38;5;124m\"\u001b[39m\u001b[38;5;124mLow\u001b[39m\u001b[38;5;124m\"\u001b[39m)\n\u001b[0;32m     46\u001b[0m                                    )\n\u001b[0;32m     48\u001b[0m df_profile \u001b[38;5;241m=\u001b[39m df_profile\u001b[38;5;241m.\u001b[39mjoin(df_preferred_category, \u001b[38;5;124m\"\u001b[39m\u001b[38;5;124muser_id\u001b[39m\u001b[38;5;124m\"\u001b[39m, \u001b[38;5;124m\"\u001b[39m\u001b[38;5;124mleft\u001b[39m\u001b[38;5;124m\"\u001b[39m)\\\n\u001b[0;32m     49\u001b[0m                             \u001b[38;5;241m.\u001b[39mjoin(df_preferred_brand,\u001b[38;5;124m\"\u001b[39m\u001b[38;5;124muser_id\u001b[39m\u001b[38;5;124m\"\u001b[39m,\u001b[38;5;124m\"\u001b[39m\u001b[38;5;124mleft\u001b[39m\u001b[38;5;124m\"\u001b[39m)\\\n\u001b[0;32m     50\u001b[0m                             \u001b[38;5;241m.\u001b[39mjoin(df_churn,\u001b[38;5;124m\"\u001b[39m\u001b[38;5;124muser_id\u001b[39m\u001b[38;5;124m\"\u001b[39m,\u001b[38;5;124m\"\u001b[39m\u001b[38;5;124mleft\u001b[39m\u001b[38;5;124m\"\u001b[39m)\n",
      "File \u001b[1;32mc:\\Users\\ADMIN\\AppData\\Local\\Programs\\Python\\Python312\\Lib\\site-packages\\pyspark\\sql\\dataframe.py:5174\u001b[0m, in \u001b[0;36mDataFrame.withColumn\u001b[1;34m(self, colName, col)\u001b[0m\n\u001b[0;32m   5169\u001b[0m \u001b[38;5;28;01mif\u001b[39;00m \u001b[38;5;129;01mnot\u001b[39;00m \u001b[38;5;28misinstance\u001b[39m(col, Column):\n\u001b[0;32m   5170\u001b[0m     \u001b[38;5;28;01mraise\u001b[39;00m PySparkTypeError(\n\u001b[0;32m   5171\u001b[0m         error_class\u001b[38;5;241m=\u001b[39m\u001b[38;5;124m\"\u001b[39m\u001b[38;5;124mNOT_COLUMN\u001b[39m\u001b[38;5;124m\"\u001b[39m,\n\u001b[0;32m   5172\u001b[0m         message_parameters\u001b[38;5;241m=\u001b[39m{\u001b[38;5;124m\"\u001b[39m\u001b[38;5;124marg_name\u001b[39m\u001b[38;5;124m\"\u001b[39m: \u001b[38;5;124m\"\u001b[39m\u001b[38;5;124mcol\u001b[39m\u001b[38;5;124m\"\u001b[39m, \u001b[38;5;124m\"\u001b[39m\u001b[38;5;124marg_type\u001b[39m\u001b[38;5;124m\"\u001b[39m: \u001b[38;5;28mtype\u001b[39m(col)\u001b[38;5;241m.\u001b[39m\u001b[38;5;18m__name__\u001b[39m},\n\u001b[0;32m   5173\u001b[0m     )\n\u001b[1;32m-> 5174\u001b[0m \u001b[38;5;28;01mreturn\u001b[39;00m DataFrame(\u001b[38;5;28;43mself\u001b[39;49m\u001b[38;5;241;43m.\u001b[39;49m\u001b[43m_jdf\u001b[49m\u001b[38;5;241;43m.\u001b[39;49m\u001b[43mwithColumn\u001b[49m\u001b[43m(\u001b[49m\u001b[43mcolName\u001b[49m\u001b[43m,\u001b[49m\u001b[43m \u001b[49m\u001b[43mcol\u001b[49m\u001b[38;5;241;43m.\u001b[39;49m\u001b[43m_jc\u001b[49m\u001b[43m)\u001b[49m, \u001b[38;5;28mself\u001b[39m\u001b[38;5;241m.\u001b[39msparkSession)\n",
      "File \u001b[1;32mc:\\Users\\ADMIN\\AppData\\Local\\Programs\\Python\\Python312\\Lib\\site-packages\\py4j\\java_gateway.py:1322\u001b[0m, in \u001b[0;36mJavaMember.__call__\u001b[1;34m(self, *args)\u001b[0m\n\u001b[0;32m   1316\u001b[0m command \u001b[38;5;241m=\u001b[39m proto\u001b[38;5;241m.\u001b[39mCALL_COMMAND_NAME \u001b[38;5;241m+\u001b[39m\\\n\u001b[0;32m   1317\u001b[0m     \u001b[38;5;28mself\u001b[39m\u001b[38;5;241m.\u001b[39mcommand_header \u001b[38;5;241m+\u001b[39m\\\n\u001b[0;32m   1318\u001b[0m     args_command \u001b[38;5;241m+\u001b[39m\\\n\u001b[0;32m   1319\u001b[0m     proto\u001b[38;5;241m.\u001b[39mEND_COMMAND_PART\n\u001b[0;32m   1321\u001b[0m answer \u001b[38;5;241m=\u001b[39m \u001b[38;5;28mself\u001b[39m\u001b[38;5;241m.\u001b[39mgateway_client\u001b[38;5;241m.\u001b[39msend_command(command)\n\u001b[1;32m-> 1322\u001b[0m return_value \u001b[38;5;241m=\u001b[39m \u001b[43mget_return_value\u001b[49m\u001b[43m(\u001b[49m\n\u001b[0;32m   1323\u001b[0m \u001b[43m    \u001b[49m\u001b[43manswer\u001b[49m\u001b[43m,\u001b[49m\u001b[43m \u001b[49m\u001b[38;5;28;43mself\u001b[39;49m\u001b[38;5;241;43m.\u001b[39;49m\u001b[43mgateway_client\u001b[49m\u001b[43m,\u001b[49m\u001b[43m \u001b[49m\u001b[38;5;28;43mself\u001b[39;49m\u001b[38;5;241;43m.\u001b[39;49m\u001b[43mtarget_id\u001b[49m\u001b[43m,\u001b[49m\u001b[43m \u001b[49m\u001b[38;5;28;43mself\u001b[39;49m\u001b[38;5;241;43m.\u001b[39;49m\u001b[43mname\u001b[49m\u001b[43m)\u001b[49m\n\u001b[0;32m   1325\u001b[0m \u001b[38;5;28;01mfor\u001b[39;00m temp_arg \u001b[38;5;129;01min\u001b[39;00m temp_args:\n\u001b[0;32m   1326\u001b[0m     \u001b[38;5;28;01mif\u001b[39;00m \u001b[38;5;28mhasattr\u001b[39m(temp_arg, \u001b[38;5;124m\"\u001b[39m\u001b[38;5;124m_detach\u001b[39m\u001b[38;5;124m\"\u001b[39m):\n",
      "File \u001b[1;32mc:\\Users\\ADMIN\\AppData\\Local\\Programs\\Python\\Python312\\Lib\\site-packages\\pyspark\\errors\\exceptions\\captured.py:185\u001b[0m, in \u001b[0;36mcapture_sql_exception.<locals>.deco\u001b[1;34m(*a, **kw)\u001b[0m\n\u001b[0;32m    181\u001b[0m converted \u001b[38;5;241m=\u001b[39m convert_exception(e\u001b[38;5;241m.\u001b[39mjava_exception)\n\u001b[0;32m    182\u001b[0m \u001b[38;5;28;01mif\u001b[39;00m \u001b[38;5;129;01mnot\u001b[39;00m \u001b[38;5;28misinstance\u001b[39m(converted, UnknownException):\n\u001b[0;32m    183\u001b[0m     \u001b[38;5;66;03m# Hide where the exception came from that shows a non-Pythonic\u001b[39;00m\n\u001b[0;32m    184\u001b[0m     \u001b[38;5;66;03m# JVM exception message.\u001b[39;00m\n\u001b[1;32m--> 185\u001b[0m     \u001b[38;5;28;01mraise\u001b[39;00m converted \u001b[38;5;28;01mfrom\u001b[39;00m \u001b[38;5;28;01mNone\u001b[39;00m\n\u001b[0;32m    186\u001b[0m \u001b[38;5;28;01melse\u001b[39;00m:\n\u001b[0;32m    187\u001b[0m     \u001b[38;5;28;01mraise\u001b[39;00m\n",
      "\u001b[1;31mAnalysisException\u001b[0m: [UNRESOLVED_COLUMN.WITH_SUGGESTION] A column or function parameter with name `first_active_date` cannot be resolved. Did you mean one of the following? [`first_activity_date`, `last_active_day`, `last_purchase_date`, `user_id`, `day_since_last_purchase`].;\n'Project [user_id#1040, first_activity_date#1551, last_purchase_date#1553, last_active_day#1555, day_since_last_purchase#1560, datediff(last_active_day#1555, 'first_active_date) AS day_since_first_activity#1566]\n+- Project [user_id#1040, first_activity_date#1551, last_purchase_date#1553, last_active_day#1555, datediff(cast(last_purchase_date#1553 as date), cast(first_activity_date#1551 as date)) AS day_since_last_purchase#1560]\n   +- Aggregate [user_id#1040], [user_id#1040, min(event_time#1033) AS first_activity_date#1551, max(CASE WHEN (event_type#1034 = purchase) THEN event_time#1033 END) AS last_purchase_date#1553, max(CASE WHEN event_type#1034 IN (view,cart) THEN event_time#1033 END) AS last_active_day#1555]\n      +- Relation [event_time#1033,event_type#1034,product_id#1035,category_id#1036L,category_code#1037,brand#1038,price#1039,user_id#1040,user_session#1041] csv\n"
     ]
    }
   ],
   "source": [
    "df_profile = df.filter(col(\"event_type\") == \"purchase\") \\\n",
    "        .groupBy(\"user_id\").agg(\n",
    "            min(\"event_time\").alias(\"first_purchase_date\"),\n",
    "            max(\"event_time\").alias(\"last_purchase_date\"),\n",
    "            round(sum(\"price\"), 2).alias(\"total_spent\"),\n",
    "            count(\"product_id\").alias(\"total_orders\")\n",
    "        )\n",
    "    # Phân loại khách hàng theo tổng chi tiêu\n",
    "df_profile = df_profile.withColumn(\"customer_tier\",\n",
    "        when(col(\"total_spent\") >= 10000000, \"VIP\")\n",
    "        .when(col(\"total_spent\") >= 3000000, \"Medium\")\n",
    "        .otherwise(\"Low\"))\n",
    "    \n",
    "# top category mua nhiều nhất\n",
    "df_category = df.filter(col(\"event_type\") == \"purchase\") \\\n",
    "        .groupBy(\"user_id\", \"category_id\", \"category_code\") \\\n",
    "        .agg(count(\"*\").alias(\"t\"))\n",
    "window_category = Window.partitionBy(\"user_id\").orderBy(desc(\"t\"))\n",
    "df_preferred_category = df_category.withColumn(\"rank\", rank().over(window_category)) \\\n",
    "        .filter(col(\"rank\") <= 3).select(\"user_id\",\"category_code\")\\\n",
    "        .groupBy(\"user_id\").agg(collect_list(\"category_code\").alias(\"preferred_category\"))\n",
    "\n",
    "\n",
    "#top brand mua nhieu nhat\n",
    "df_brand = df.filter(col(\"event_type\") == \"purchase\") \\\n",
    "        .groupBy(\"user_id\", \"brand\") \\\n",
    "        .agg(count(\"*\").alias(\"t\"))\n",
    "    \n",
    "window_brand = Window.partitionBy(\"user_id\").orderBy(desc(\"t\"))\n",
    "df_preferred_brand = df_brand.withColumn(\"rank\", rank().over(window_brand)) \\\n",
    "        .filter(col(\"rank\") <= 3)\\\n",
    "        .groupBy(\"user_id\").agg(collect_list(\"brand\").alias(\"preferred_brands\"))\n",
    "\n",
    "df_churn = df.groupBy(\"user_id\").agg(\n",
    "        min(col(\"event_time\")).alias(\"first_activity_date\"),\n",
    "        max(when(col(\"event_type\") == \"purchase\", col(\"event_time\"))).alias(\"last_purchase_date\"),\n",
    "        max(when(col(\"event_type\").isin(\"view\",\"cart\"), col(\"event_time\"))).alias(\"last_active_day\")\n",
    "    )\n",
    "df_churn = df_churn.withColumn(\"day_since_last_purchase\", datediff(col(\"last_purchase_date\"),col(\"first_activity_date\")))\\\n",
    "                .withColumn(\"day_since_first_activity\", datediff(col(\"last_active_day\"),col(\"first_active_date\")))\n",
    "\n",
    "df_churn = df_churn.withColumn(\"chunk_risk\",\n",
    "                                   when(col(\"day_since_last_purchase\") > 30, \"High\")\n",
    "                                   .when((col(\"day_since_last_purchase\") > 15) & (col(\"day_since_first_activity\") < 30), \"Potential\")\n",
    "                                   .when(col(\"day_since_last_purchase\" )> 15, \"Medium\")\n",
    "                                   .otherwise(\"Low\")\n",
    "                                   )\n",
    "\n",
    "df_profile = df_profile.join(df_preferred_category, \"user_id\", \"left\")\\\n",
    "                            .join(df_preferred_brand,\"user_id\",\"left\")\\\n",
    "                            .join(df_churn,\"user_id\",\"left\")\n",
    "df_profile.show(5)\n"
   ]
  },
  {
   "cell_type": "code",
   "execution_count": null,
   "metadata": {},
   "outputs": [
    {
     "name": "stdout",
     "output_type": "stream",
     "text": [
      "+---------+------------+\n",
      "|  user_id|top_3_brands|\n",
      "+---------+------------+\n",
      "|401646272|     [sonel]|\n",
      "|469922078|  [babyliss]|\n",
      "|482482539|     [elari]|\n",
      "+---------+------------+\n",
      "only showing top 3 rows\n",
      "\n"
     ]
    }
   ],
   "source": [
    "#top brand mua nhieu nhat\n",
    "df_prefered_brand = df.filter(col(\"event_type\") == \"purchase\").groupBy(col('user_id'),col('brand')).agg(count('*').alias('num_purchase_brand'))\n",
    "\n",
    "window = Window.partitionBy(\"user_id\").orderBy(desc('num_purchase_brand'))\n",
    "\n",
    "df_prefered_brand = df_prefered_brand.withColumn(\"rank\", rank().over(window)).filter(col('rank') <= 3)\n",
    "\n",
    "df_top_3_brands = df_prefered_brand.groupBy(\"user_id\").agg(collect_list(\"brand\").alias(\"top_3_brands\"))\n",
    "\n",
    "df_top_3_brands.show(3)"
   ]
  },
  {
   "cell_type": "code",
   "execution_count": 6,
   "metadata": {},
   "outputs": [
    {
     "name": "stdout",
     "output_type": "stream",
     "text": [
      "+---------+-------------------+-------------------+-----------+------------+\n",
      "|  user_id|first_purchase_date| last_purchase_date|total_spend|total_orders|\n",
      "+---------+-------------------+-------------------+-----------+------------+\n",
      "|527958941|2019-10-10 00:02:16|2019-10-10 00:03:58|    1439.18|           2|\n",
      "|516897905|2019-10-10 00:16:15|2019-10-10 00:16:15|       65.9|           1|\n",
      "+---------+-------------------+-------------------+-----------+------------+\n",
      "only showing top 2 rows\n",
      "\n"
     ]
    }
   ],
   "source": [
    "#static customer profile\n",
    "df_scp = df.filter(col(\"event_type\") == \"purchase\")\\\n",
    "    .groupBy(col(\"user_id\")).agg(\n",
    "        min(\"event_time\").alias(\"first_purchase_date\"), \n",
    "        max(\"event_time\").alias(\"last_purchase_date\"),\n",
    "        round(sum(\"price\"),2).alias(\"total_spend\"),\n",
    "        count(\"product_id\").alias(\"total_orders\")\n",
    "        )\n",
    "df_scp.show(2)\n"
   ]
  },
  {
   "cell_type": "code",
   "execution_count": null,
   "metadata": {},
   "outputs": [
    {
     "name": "stdout",
     "output_type": "stream",
     "text": [
      "+---------+----------------------+\n",
      "|  user_id|most_purchase_category|\n",
      "+---------+----------------------+\n",
      "|401646272|                    []|\n",
      "|469922078|                    []|\n",
      "|482482539|  [electronics.audi...|\n",
      "|489320606|  [electronics.smar...|\n",
      "|497976822|                    []|\n",
      "+---------+----------------------+\n",
      "only showing top 5 rows\n",
      "\n"
     ]
    }
   ],
   "source": [
    "# top category mua nhiều nhất\n",
    "df_preferred_category = df.filter(col(\"event_type\")==\"purchase\").groupBy(\"user_id\",\"category_id\",\"category_code\").agg(count(\"*\").alias(\"t\"))\n",
    "window = Window.partitionBy(\"user_id\").orderBy(desc(\"t\"))\n",
    "df_preferred_category = df_preferred_category.withColumn(\"rank\", rank().over(window))\\\n",
    "                        .filter(col(\"rank\") < 3)\n",
    "\n",
    "df_preferred_category__ = df_preferred_category.groupBy(col(\"user_id\")).agg(collect_list(\"category_code\").alias(\"most_purchase_category\"))\n",
    "      \n",
    "df_preferred_category__.show(5)"
   ]
  },
  {
   "cell_type": "code",
   "execution_count": 89,
   "metadata": {},
   "outputs": [
    {
     "name": "stdout",
     "output_type": "stream",
     "text": [
      "+---------+------------------+\n",
      "|  user_id|   recent_purchase|\n",
      "+---------+------------------+\n",
      "|401646272|        [13300559]|\n",
      "|469922078|         [5300259]|\n",
      "|482482539|         [4804409]|\n",
      "|489320606|         [1005107]|\n",
      "|497976822|        [12702958]|\n",
      "|511064318|        [22700866]|\n",
      "|512363973|[1004838, 1004838]|\n",
      "|512364293|[1004768, 1004768]|\n",
      "|512364372|         [1002524]|\n",
      "|512364709|         [1307445]|\n",
      "+---------+------------------+\n",
      "only showing top 10 rows\n",
      "\n"
     ]
    }
   ],
   "source": [
    "window = Window.partitionBy(\"user_id\").orderBy(desc(\"event_time\"))\n",
    "df_last_product = df.filter(col(\"event_type\") == \"purchase\") \\\n",
    "    .withColumn(\"rank\", rank().over(window)) \\\n",
    "    .filter(col(\"rank\") < 3).select(\"user_id\", \"product_id\")\n",
    "\n",
    "df__=df_last_product.groupBy(\"user_id\").agg((collect_list(\"product_id\")).alias(\"recent_purchase\"))\n",
    "df__.show(10)"
   ]
  },
  {
   "cell_type": "code",
   "execution_count": null,
   "metadata": {},
   "outputs": [
    {
     "name": "stdout",
     "output_type": "stream",
     "text": [
      "+----------+-----------+-----------+---------------+-------------+---------------+-----------------+\n",
      "|product_id|total_views|total_carts|total_purchases|total_revenue|conversion_rate|cart_abandon_rate|\n",
      "+----------+-----------+-----------+---------------+-------------+---------------+-----------------+\n",
      "|  48300076|          5|          0|              0|          0.0|            0.0|              0.0|\n",
      "|   1004739|       4277|        349|            172|     32587.48|           0.04|             0.51|\n",
      "|  29100052|         65|          0|              1|        32.33|           0.02|              0.0|\n",
      "|   1004666|        175|          4|              4|      3559.72|           0.02|              0.0|\n",
      "|  17100091|          3|          0|              0|          0.0|            0.0|              0.0|\n",
      "|   2900536|        560|          0|             23|      1183.58|           0.04|              0.0|\n",
      "|  21406776|         21|          0|              0|          0.0|            0.0|              0.0|\n",
      "|  28100913|         74|          0|              1|       281.86|           0.01|              0.0|\n",
      "|  11500291|         12|          0|              0|          0.0|            0.0|              0.0|\n",
      "|  17200066|         24|          0|              0|          0.0|            0.0|              0.0|\n",
      "+----------+-----------+-----------+---------------+-------------+---------------+-----------------+\n",
      "only showing top 10 rows\n",
      "\n"
     ]
    }
   ],
   "source": [
    "# product view fact\n",
    "df_pvf = df.groupBy(\"product_id\",).agg(\n",
    "        count(when(col(\"event_type\") == \"view\", True)).alias(\"total_views\"),\n",
    "        count(when(col(\"event_type\") == \"cart\", True)).alias(\"total_carts\"),\n",
    "        count(when(col(\"event_type\") == \"purchase\", True)).alias(\"total_purchases\"),\n",
    "        round(sum(when(col(\"event_type\") == \"purchase\", col(\"price\")).otherwise(0)),2).alias(\"total_revenue\")\n",
    "    )\n",
    "df_pvf = df_pvf.withColumn(\"conversion_rate\", round(col(\"total_purchases\")/col(\"total_views\"),2)) \\\n",
    "                .withColumn(\"cart_abandon_rate\",\n",
    "                            when(col(\"total_carts\") > 0, round((col(\"total_carts\")-col(\"total_purchases\"))/col(\"total_carts\"),2))\n",
    "                            .otherwise(0))\n",
    "                # .withColumn()\n",
    "df_pvf.show(10)"
   ]
  },
  {
   "cell_type": "code",
   "execution_count": null,
   "metadata": {},
   "outputs": [],
   "source": [
    "#phân loại khách hàng\n"
   ]
  }
 ],
 "metadata": {
  "kernelspec": {
   "display_name": "Python 3",
   "language": "python",
   "name": "python3"
  },
  "language_info": {
   "codemirror_mode": {
    "name": "ipython",
    "version": 3
   },
   "file_extension": ".py",
   "mimetype": "text/x-python",
   "name": "python",
   "nbconvert_exporter": "python",
   "pygments_lexer": "ipython3",
   "version": "3.12.6"
  }
 },
 "nbformat": 4,
 "nbformat_minor": 2
}
